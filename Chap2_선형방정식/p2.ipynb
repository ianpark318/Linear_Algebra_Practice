{
 "cells": [
  {
   "cell_type": "code",
   "execution_count": 2,
   "outputs": [
    {
     "name": "stdout",
     "output_type": "stream",
     "text": [
      "|1.00\t0.33\t1.00\t4.67|\n",
      "|0.00\t2.67\t1.00\t8.33|\n",
      "|0.00\t1.33\t2.00\t8.67|\n",
      "\n",
      "|1.00\t0.00\t0.88\t3.63|\n",
      "|0.00\t1.00\t0.38\t3.12|\n",
      "|0.00\t0.00\t1.50\t4.50|\n",
      "\n",
      "|1.00\t0.00\t0.00\t1.00|\n",
      "|0.00\t1.00\t0.00\t2.00|\n",
      "|0.00\t0.00\t1.00\t3.00|\n",
      "\n",
      "Solution is [1. 2. 3.]\n",
      "|1.00\t0.33\t1.00\t4.67|\n",
      "|0.00\t2.67\t1.00\t8.33|\n",
      "|0.00\t1.33\t2.00\t8.67|\n",
      "\n",
      "|1.00\t0.00\t0.88\t3.63|\n",
      "|0.00\t1.00\t0.38\t3.12|\n",
      "|0.00\t0.00\t1.50\t4.50|\n",
      "\n",
      "|1.00\t0.00\t0.00\t1.00|\n",
      "|0.00\t1.00\t0.00\t2.00|\n",
      "|0.00\t0.00\t1.00\t3.00|\n",
      "\n",
      "Solution is [1. 2. 3.]\n"
     ]
    }
   ],
   "source": [
    "# 가우스-조단 수행하는 gauss()\n",
    "\n",
    "import numpy as np\n",
    "\n",
    "def printMatrix(M):\n",
    "    row, col = M.shape\n",
    "    Matrix = \"\"\n",
    "    for i in range(row):\n",
    "        line = \"|\"\n",
    "        for j in range(col-1):\n",
    "            line += f\"{M[i, j]:.2f}\\t\"\n",
    "        line += f\"{M[i, -1]:.2f}|\\n\"\n",
    "        Matrix += line\n",
    "    print(Matrix)\n",
    "\n",
    "def gauss(A):\n",
    "    row, col = A.shape\n",
    "    for i in range(row):\n",
    "        maxVal = abs(A[i, i])\n",
    "        maxRow = i\n",
    "        for j in range(i+1, row):\n",
    "            if abs(A[j, i]) > maxVal:\n",
    "                maxVal = abs(A[j, i])\n",
    "                maxRow = j\n",
    "        for j in range(col):\n",
    "            A[i, j], A[maxRow, j] = A[maxRow, j], A[i, j]   # swap elements\n",
    "        #만약 i번째 열의 모든 원소가 0이면 다음 열로 넘어감\n",
    "        pivot = A[i, i]\n",
    "        if pivot == 0:\n",
    "            continue\n",
    "        A[i, :] = A[i, :] / pivot   # pivot 1로 만들어줌\n",
    "        # 나머지 행들의 i번째 열 원소 0으로 만들어주기\n",
    "        for j in range(row):\n",
    "            if j != i:\n",
    "                A[j, :] = A[j, :] - A[j, i] * A[i, :]\n",
    "        printMatrix(A)  # 중간과정 보여줌\n",
    "\n",
    "    x = A[:, -1]\n",
    "    return x\n",
    "\n",
    "\n",
    "# 행렬의 자료형을 float으로 선언을 해줘야 나누기 연산 등의 결과가 실수로 나옴\n",
    "A = np.array([\n",
    "    [2., 2., 4., 18.],\n",
    "    [1., 3., 2., 13.],\n",
    "    [3., 1., 3., 14.]\n",
    "])\n",
    "\n",
    "x = gauss(A)\n",
    "print(\"Solution is\", x)\n",
    "\n",
    "# 이 프로그램의 한계점\n",
    "# 불능, 부정의 해에 대해서는 결과를 내지 못함\n",
    "# 좀 더 general한 프로그램 작성 해보는 것도 재밌을 것 같음"
   ],
   "metadata": {
    "collapsed": false,
    "pycharm": {
     "name": "#%%\n"
    }
   }
  }
 ],
 "metadata": {
  "kernelspec": {
   "display_name": "Python 3",
   "language": "python",
   "name": "python3"
  },
  "language_info": {
   "codemirror_mode": {
    "name": "ipython",
    "version": 2
   },
   "file_extension": ".py",
   "mimetype": "text/x-python",
   "name": "python",
   "nbconvert_exporter": "python",
   "pygments_lexer": "ipython2",
   "version": "2.7.6"
  }
 },
 "nbformat": 4,
 "nbformat_minor": 0
}