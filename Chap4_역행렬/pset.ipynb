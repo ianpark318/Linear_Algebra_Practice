{
 "cells": [
  {
   "cell_type": "markdown",
   "source": [
    "# Problem 1"
   ],
   "metadata": {
    "collapsed": false,
    "pycharm": {
     "name": "#%% md\n"
    }
   },
   "execution_count": 0
  },
  {
   "cell_type": "code",
   "execution_count": 1,
   "outputs": [
    {
     "name": "stdout",
     "output_type": "stream",
     "text": [
      "[[-2.   1. ]\n",
      " [ 1.5 -0.5]]\n",
      "[[1. 0.]\n",
      " [0. 1.]]\n",
      "[[ 1. -0.  0.]\n",
      " [ 0.  1.  0.]\n",
      " [-0.  0.  1.]]\n",
      "[[ 1.308]\n",
      " [-0.385]\n",
      " [-0.308]\n",
      " [-0.769]]\n"
     ]
    }
   ],
   "source": [
    "import numpy as np\n",
    "np.set_printoptions(precision=3, suppress=True)\n",
    "\n",
    "A = np.array([[1., 2.],\n",
    "              [3., 4.]])\n",
    "C = np.array([[5., 3., 2., 1.],\n",
    "              [6., 2., 4., 5.],\n",
    "              [7., 4., 1., 3.],\n",
    "              [4., 3., 5., 2.]])\n",
    "D = np.array([[4.],\n",
    "              [2.],\n",
    "              [5.],\n",
    "              [1.]])\n",
    "\n",
    "A_inv = np.linalg.inv(A)\n",
    "print(A_inv)\n",
    "print(np.matmul(A_inv, A))\n",
    "\n",
    "B = np.random.rand(3, 3)\n",
    "B_inv = np.linalg.inv(B)\n",
    "print(np.matmul(B, B_inv))\n",
    "\n",
    "x = np.matmul(np.linalg.inv(C), D)\n",
    "print(x)"
   ],
   "metadata": {
    "collapsed": false,
    "pycharm": {
     "name": "#%%\n"
    }
   }
  },
  {
   "cell_type": "markdown",
   "source": [
    "# Problem 2"
   ],
   "metadata": {
    "collapsed": false,
    "pycharm": {
     "name": "#%% md\n"
    }
   }
  },
  {
   "cell_type": "code",
   "execution_count": 2,
   "outputs": [
    {
     "name": "stdout",
     "output_type": "stream",
     "text": [
      "[[ 1.308]\n",
      " [-0.385]\n",
      " [-0.308]\n",
      " [-0.769]]\n"
     ]
    }
   ],
   "source": [
    "def Doolittle(A):\n",
    "    # Square matrix\n",
    "    n, m = A.shape\n",
    "    L = np.zeros((n, n))\n",
    "    U = np.zeros((n, n))\n",
    "    for i in range(n):\n",
    "        for j in range(i, n):\n",
    "            U[i, j] = A[i, j]\n",
    "            for k in range(i):\n",
    "                U[i, j] = U[i, j] - L[i, k] * U[k, j]\n",
    "        L[i, i] = 1\n",
    "        if i < n - 1:\n",
    "            p = i + 1\n",
    "            for j in range(p):\n",
    "                L[p, j] = A[p, j]\n",
    "                for k in range(j):\n",
    "                    L[p, j] = L[p, j] - L[p, k] * U[k, j]\n",
    "                L[p, j] = L[p, j] / U[j, j]\n",
    "    return L, U\n",
    "\n",
    "\n",
    "def LUSolve(A, b):\n",
    "    L, U = Doolittle(A)\n",
    "    n, m = L.shape\n",
    "    # Ly = b\n",
    "    y = np.dot(np.linalg.inv(L), b)\n",
    "    # Ux = y\n",
    "    x = np.dot(np.linalg.inv(U), y)\n",
    "    return x\n",
    "\n",
    "\n",
    "A = np.array([[5., 3., 2., 1.],\n",
    "              [6., 2., 4., 5.],\n",
    "              [7., 4., 1., 3.],\n",
    "              [4., 3., 5., 2.]])\n",
    "b = np.array([[4.],\n",
    "              [2.],\n",
    "              [5.],\n",
    "              [1.]])\n",
    "\n",
    "x = LUSolve(A, b)\n",
    "print(x)"
   ],
   "metadata": {
    "collapsed": false,
    "pycharm": {
     "name": "#%%\n"
    }
   }
  }
 ],
 "metadata": {
  "kernelspec": {
   "display_name": "Python 3",
   "language": "python",
   "name": "python3"
  },
  "language_info": {
   "codemirror_mode": {
    "name": "ipython",
    "version": 2
   },
   "file_extension": ".py",
   "mimetype": "text/x-python",
   "name": "python",
   "nbconvert_exporter": "python",
   "pygments_lexer": "ipython2",
   "version": "2.7.6"
  }
 },
 "nbformat": 4,
 "nbformat_minor": 0
}